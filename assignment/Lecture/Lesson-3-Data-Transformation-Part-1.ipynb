{
 "cells": [
  {
   "cell_type": "markdown",
   "id": "fc4341d9",
   "metadata": {},
   "source": [
    "## Lesson 3: Data Transformation with dplyr - Part 1 (Select, Filter, Arrange)\n",
    "\n",
    "Welcome to Lesson 3! Now that you've learned data cleaning, let's explore **data transformation** - the art of reshaping and manipulating your data to extract meaningful insights.\n",
    "\n",
    "**What is Data Transformation?**\n",
    "- The process of converting data from one format or structure into another\n",
    "- Selecting specific columns, filtering rows, and arranging data\n",
    "- Creating new variables and summarizing information\n",
    "\n",
    "**Why is it important?**\n",
    "- Most analysis requires data in a specific format\n",
    "- Helps you focus on relevant subsets of your data\n",
    "- Essential for creating meaningful visualizations and reports\n",
    "\n",
    "**In this lesson, we'll cover:**\n",
    "- **select()**: Choosing specific columns\n",
    "- **filter()**: Subsetting rows based on conditions\n",
    "- **arrange()**: Reordering rows\n",
    "- **The pipe operator (%>%)**: Chaining operations together"
   ]
  },
  {
   "cell_type": "markdown",
   "id": "3b3430b6",
   "metadata": {},
   "source": [
    "## Loading Required Packages\n",
    "\n",
    "For data transformation, we'll use the **dplyr** package, which is part of the **tidyverse** collection:\n",
    "- **dplyr**: The grammar of data manipulation\n",
    "- **Intuitive function names**: select, filter, arrange, mutate, summarize\n",
    "- **Pipe operator (%>%)**: Chain operations in a readable way\n",
    "\n",
    "Let's load the tidyverse package that includes dplyr:"
   ]
  },
  {
   "cell_type": "code",
   "execution_count": null,
   "id": "eb6ae2f8",
   "metadata": {
    "vscode": {
     "languageId": "r"
    }
   },
   "outputs": [],
   "source": [
    "# Load necessary packages\n",
    "library(tidyverse)   # Load the tidyverse collection of packages\n",
    "                     # This includes: dplyr, ggplot2, tidyr, readr, purrr, tibble\n",
    "                     # The comment after # explains what this package includes"
   ]
  },
  {
   "cell_type": "markdown",
   "id": "1e6b7628",
   "metadata": {},
   "source": [
    "## Creating Sample Sales Dataset\n",
    "\n",
    "For this lesson, we'll work with a realistic sales dataset that contains:\n",
    "- **OrderID**: Unique identifier for each order\n",
    "- **CustomerName**: Names of customers\n",
    "- **Product**: Items purchased (Laptop, Mouse, Keyboard, Monitor)\n",
    "- **Category**: Product category (all Electronics in this example)\n",
    "- **Price**: Price of each item\n",
    "- **Quantity**: Number of items ordered\n",
    "- **OrderDate**: Date when the order was placed\n",
    "- **Region**: Geographic region (East, West, North, South)\n",
    "\n",
    "**Why this dataset is good for learning:**\n",
    "- Contains different data types (numeric, character, date)\n",
    "- Realistic business scenario\n",
    "- Multiple dimensions for filtering and grouping"
   ]
  },
  {
   "cell_type": "code",
   "execution_count": null,
   "id": "3f4be367",
   "metadata": {
    "vscode": {
     "languageId": "r"
    }
   },
   "outputs": [],
   "source": [
    "# Create a sample sales dataset\n",
    "sales_data <- data.frame(              # Create a data frame (R's table structure)\n",
    "  OrderID = 101:110,                   # Create sequence from 101 to 110 using :\n",
    "  CustomerName = c(\"Alice\", \"Bob\", \"Charlie\", \"David\", \"Eve\", \"Frank\", \"Grace\", \"Heidi\", \"Ivan\", \"Judy\"),\n",
    "                                       # c() combines values into a vector\n",
    "  Product = c(\"Laptop\", \"Mouse\", \"Keyboard\", \"Monitor\", \"Laptop\", \"Mouse\", \"Keyboard\", \"Monitor\", \"Laptop\", \"Mouse\"),\n",
    "                                       # Character vector with product names\n",
    "  Category = c(\"Electronics\", \"Electronics\", \"Electronics\", \"Electronics\", \"Electronics\", \"Electronics\", \"Electronics\", \"Electronics\", \"Electronics\", \"Electronics\"),\n",
    "                                       # All same category - shows repetitive data\n",
    "  Price = c(1200, 25, 75, 300, 1150, 20, 80, 320, 1250, 30),\n",
    "                                       # Numeric vector with price values\n",
    "  Quantity = c(1, 2, 1, 1, 1, 3, 1, 1, 1, 2),\n",
    "                                       # Integer vector for quantities ordered\n",
    "  OrderDate = as.Date(c(\"2024-01-15\", \"2024-01-15\", \"2024-01-16\", \"2024-01-17\", \"2024-01-18\",\n",
    "                        \"2024-01-19\", \"2024-01-20\", \"2024-01-21\", \"2024-01-22\", \"2024-01-23\")),\n",
    "                                       # as.Date() converts text to proper date format\n",
    "  Region = c(\"East\", \"West\", \"North\", \"South\", \"East\", \"West\", \"North\", \"South\", \"East\", \"West\")\n",
    "                                       # Factor-like data for geographic regions\n",
    ")\n",
    "\n",
    "print(\"Original Sales Data:\")          # print() displays output to console\n",
    "print(sales_data)                      # Show the entire data frame"
   ]
  },
  {
   "cell_type": "markdown",
   "id": "91172b62",
   "metadata": {},
   "source": [
    "## Introduction to dplyr and the Pipe Operator (%>%)\n",
    "\n",
    "The **pipe operator (%>%)** is one of the most powerful features in R for data manipulation:\n",
    "\n",
    "**Without pipe (traditional R):**\n",
    "```r\n",
    "result <- filter(select(sales_data, Product, Price), Price > 100)\n",
    "```\n",
    "\n",
    "**With pipe (modern tidyverse style):**\n",
    "```r\n",
    "result <- sales_data %>%\n",
    "  select(Product, Price) %>%\n",
    "  filter(Price > 100)\n",
    "```\n",
    "\n",
    "**Why use the pipe operator?**\n",
    "- **Readability**: Code reads left-to-right, top-to-bottom\n",
    "- **Less nesting**: Avoid complex nested function calls\n",
    "- **Step-by-step**: Easy to add/remove operations\n",
    "- **Debugging**: Can run partial pipelines to check intermediate results"
   ]
  },
  {
   "cell_type": "code",
   "execution_count": null,
   "id": "0aa487e4",
   "metadata": {
    "vscode": {
     "languageId": "r"
    }
   },
   "outputs": [],
   "source": [
    "# Example: without pipe (harder to read)\n",
    "# result <- filter(select(sales_data, Product, Price), Price > 100)\n",
    "# This nests functions: select first, then filter the result\n",
    "\n",
    "# Example: with pipe (easier to read)\n",
    "result <- sales_data %>%               # Start with sales_data, then pipe to next function\n",
    "  select(Product, Price) %>%           # Select only Product and Price columns, then pipe\n",
    "  filter(Price > 100)                  # Filter rows where Price is greater than 100\n",
    "                                       # %>% passes result from left side to right side\n",
    "\n",
    "print(\"Example of pipe operator - Products with Price > 100:\")\n",
    "print(result)                          # Display the final filtered result"
   ]
  },
  {
   "cell_type": "markdown",
   "id": "7a9847d2",
   "metadata": {},
   "source": [
    "## 1. select(): Choosing Columns\n",
    "\n",
    "The **select()** function is your gateway to focused data analysis by allowing you to choose which columns to keep in your dataset. Think of it as your data's spotlight - highlighting only the information that matters for your specific analysis.\n",
    "\n",
    "### What You'll Learn:\n",
    "- **Column Selection Techniques**: Multiple ways to specify which columns you want\n",
    "- **Pattern Matching**: Using helper functions to select columns by name patterns\n",
    "- **Exclusion Methods**: How to keep everything except certain columns\n",
    "- **Performance Benefits**: Why selecting fewer columns makes your analysis faster\n",
    "\n",
    "### Business Context:\n",
    "In real-world datasets, you often work with tables containing dozens or even hundreds of columns. Not all columns are relevant for every analysis. For example:\n",
    "- **Sales Analysis**: You might only need CustomerName, Product, Price, and Region\n",
    "- **Financial Reporting**: Focus on revenue-related columns and dates\n",
    "- **Customer Analytics**: Select demographic and behavioral columns only\n",
    "\n",
    "### Common select() patterns:\n",
    "- `select(col1, col2, col3)`: Select specific columns by name\n",
    "- `select(col1:col5)`: Select a range of consecutive columns\n",
    "- `select(-col1, -col2)`: Select everything EXCEPT specified columns\n",
    "- `select(starts_with(\"prefix\"))`: Select columns starting with specific text\n",
    "- `select(ends_with(\"suffix\"))`: Select columns ending with specific text\n",
    "- `select(contains(\"text\"))`: Select columns containing specific text anywhere in the name\n",
    "\n",
    "### Why is select() essential for data analysts?\n",
    "- **Focus**: Eliminates distractions from irrelevant columns\n",
    "- **Performance**: Smaller datasets load and process faster\n",
    "- **Clarity**: Makes your analysis intentions clear to others\n",
    "- **Memory Efficiency**: Reduces RAM usage with large datasets\n",
    "- **Export Preparation**: Create clean datasets for sharing or reporting\n",
    "\n",
    "The examples below demonstrate each selection method with practical business scenarios."
   ]
  },
  {
   "cell_type": "code",
   "execution_count": null,
   "id": "915a54d9",
   "metadata": {
    "vscode": {
     "languageId": "r"
    }
   },
   "outputs": [],
   "source": [
    "# Select specific columns\n",
    "selected_columns <- sales_data %>%    # Take sales_data and pipe it to select()\n",
    "  select(OrderID, CustomerName, Product, Price)\n",
    "                                       # select() keeps only the named columns\n",
    "                                       # All other columns (Category, Quantity, etc.) are dropped\n",
    "print(\"Selected Columns (OrderID, CustomerName, Product, Price):\")\n",
    "print(selected_columns)               # Result has only 4 columns instead of original 8"
   ]
  },
  {
   "cell_type": "code",
   "execution_count": null,
   "id": "c9964850",
   "metadata": {
    "vscode": {
     "languageId": "r"
    }
   },
   "outputs": [],
   "source": [
    "# Select columns by range\n",
    "selected_range <- sales_data %>%      # Take sales_data and pipe to select()\n",
    "  select(OrderID:Product)              # : means \"from OrderID through Product\"\n",
    "                                       # This selects OrderID, CustomerName, and Product\n",
    "                                       # Range selection based on column position\n",
    "print(\"Selected Columns by Range (OrderID to Product):\")\n",
    "print(selected_range)                 # Shows first 3 columns only"
   ]
  },
  {
   "cell_type": "code",
   "execution_count": null,
   "id": "2a5124a8",
   "metadata": {
    "vscode": {
     "languageId": "r"
    }
   },
   "outputs": [],
   "source": [
    "# Select all columns EXCEPT some\n",
    "except_columns <- sales_data %>%      # Take sales_data and pipe to select()\n",
    "  select(-Category, -OrderDate)       # Minus sign (-) means \"exclude these columns\"\n",
    "                                       # Keep everything except Category and OrderDate\n",
    "                                       # Useful when you want most columns but not all\n",
    "print(\"Selected All Columns Except Category and OrderDate:\")\n",
    "print(except_columns)                 # Result has 6 columns instead of 8"
   ]
  },
  {
   "cell_type": "code",
   "execution_count": null,
   "id": "0ca651c1",
   "metadata": {
    "vscode": {
     "languageId": "r"
    }
   },
   "outputs": [],
   "source": [
    "# Select columns that start with a specific string\n",
    "starts_with_o <- sales_data %>%       # Take sales_data and pipe to select()\n",
    "  select(starts_with(\"O\"))            # starts_with() is a helper function\n",
    "                                       # Finds columns beginning with \"O\"\n",
    "                                       # Case-sensitive: looks for \"OrderID\" and \"OrderDate\"\n",
    "print(\"Selected Columns Starting with 'O':\")\n",
    "print(starts_with_o)                  # Result shows OrderID and OrderDate columns only"
   ]
  },
  {
   "cell_type": "code",
   "execution_count": null,
   "id": "9435e654",
   "metadata": {
    "vscode": {
     "languageId": "r"
    }
   },
   "outputs": [],
   "source": [
    "# Select columns that contain a specific string\n",
    "contains_name <- sales_data %>%       # Take sales_data and pipe to select()\n",
    "  select(contains(\"Name\"))            # contains() is a helper function\n",
    "                                       # Finds columns with \"Name\" anywhere in column name\n",
    "                                       # Matches \"CustomerName\" in our dataset\n",
    "print(\"Selected Columns Containing 'Name':\")\n",
    "print(contains_name)                  # Result shows only CustomerName column"
   ]
  },
  {
   "cell_type": "markdown",
   "id": "9b2cb75c",
   "metadata": {},
   "source": [
    "## 2. filter(): Subsetting Rows Based on Conditions\n",
    "\n",
    "The **filter()** function is the cornerstone of data subsetting, allowing you to extract specific rows that meet your criteria. Think of it as your data detective tool - finding exactly the records you need for analysis.\n",
    "\n",
    "### What You'll Learn:\n",
    "- **Logical Operators**: Using comparison and boolean operators effectively\n",
    "- **Complex Conditions**: Combining multiple criteria with AND/OR logic\n",
    "- **Data Type Handling**: Filtering numeric, text, and date columns properly\n",
    "- **Pattern Recognition**: Identifying trends through strategic filtering\n",
    "\n",
    "### Business Applications:\n",
    "Filtering is essential for virtually every business analysis:\n",
    "- **Sales Analysis**: \"Show me all orders over $1000 from the Eastern region\"\n",
    "- **Customer Segmentation**: \"Find customers who purchased more than 5 items this month\"\n",
    "- **Performance Monitoring**: \"Display all transactions from the last 30 days\"\n",
    "- **Quality Control**: \"Identify orders with unusual pricing or quantities\"\n",
    "- **Compliance Reporting**: \"Extract records that meet regulatory requirements\"\n",
    "\n",
    "### Common filter() operators and their business uses:\n",
    "- `==`: **Exact Match** - \"Product equals 'Laptop'\" for specific product analysis\n",
    "- `!=`: **Exclusion** - \"Region not equal to 'Test'\" to remove test data\n",
    "- `>`, `>=`: **Threshold Analysis** - \"Sales greater than target\" for performance review\n",
    "- `<`, `<=`: **Limit Analysis** - \"Orders under $50\" for small transaction analysis\n",
    "- `&` or `,`: **AND Logic** - \"High value AND recent orders\" for priority customers\n",
    "- `|`: **OR Logic** - \"East region OR West region\" for multi-region analysis\n",
    "- `%in%`: **List Matching** - \"Product in selected category list\" for group analysis\n",
    "- `is.na()`: **Missing Data** - Find incomplete records that need attention\n",
    "- `!is.na()`: **Complete Data** - Ensure analysis uses only complete records\n",
    "\n",
    "### Strategic Filtering Benefits:\n",
    "- **Performance**: Smaller datasets process faster and use less memory\n",
    "- **Accuracy**: Focus analysis on relevant data segments\n",
    "- **Insights**: Reveal patterns hidden in the full dataset\n",
    "- **Reporting**: Create targeted reports for specific audiences\n",
    "- **Quality**: Remove outliers or invalid data before analysis\n",
    "\n",
    "The examples below demonstrate each filtering technique with real business scenarios you'll encounter in data analysis."
   ]
  },
  {
   "cell_type": "code",
   "execution_count": null,
   "id": "7f0abc4d",
   "metadata": {
    "vscode": {
     "languageId": "r"
    }
   },
   "outputs": [],
   "source": [
    "# Filter rows where Price is greater than 100\n",
    "high_price_items <- sales_data %>%    # Take sales_data and pipe to filter()\n",
    "  filter(Price > 100)                 # filter() keeps rows where condition is TRUE\n",
    "                                       # > is the \"greater than\" comparison operator\n",
    "                                       # Only keeps rows where Price column > 100\n",
    "print(\"Items with Price > 100:\")\n",
    "print(high_price_items)               # Shows only expensive items (laptops, monitors)"
   ]
  },
  {
   "cell_type": "code",
   "execution_count": null,
   "id": "508f5a92",
   "metadata": {
    "vscode": {
     "languageId": "r"
    }
   },
   "outputs": [],
   "source": [
    "# Filter rows where Product is 'Laptop' and Quantity is 1\n",
    "laptop_single_quantity <- sales_data %>%  # Take sales_data and pipe to filter()\n",
    "  filter(Product == \"Laptop\", Quantity == 1)\n",
    "                                       # Multiple conditions separated by comma = AND logic\n",
    "                                       # == is \"exactly equal to\" (use == not = for comparison)\n",
    "                                       # Both conditions must be TRUE for row to be kept\n",
    "print(\"Laptops with Quantity = 1:\")\n",
    "print(laptop_single_quantity)         # Shows only laptop orders with quantity of 1"
   ]
  },
  {
   "cell_type": "code",
   "execution_count": null,
   "id": "f5cdd7e2",
   "metadata": {
    "vscode": {
     "languageId": "r"
    }
   },
   "outputs": [],
   "source": [
    "# Filter rows where Region is 'East' or 'West'\n",
    "east_west_region <- sales_data %>%    # Take sales_data and pipe to filter()\n",
    "  filter(Region == \"East\" | Region == \"West\")\n",
    "                                       # | is the OR operator (either condition can be true)\n",
    "                                       # Keep rows where Region equals \"East\" OR \"West\"\n",
    "                                       # Excludes \"North\" and \"South\" regions\n",
    "print(\"Orders from East or West Region:\")\n",
    "print(east_west_region)               # Shows only orders from East or West regions"
   ]
  },
  {
   "cell_type": "code",
   "execution_count": null,
   "id": "b4d44e62",
   "metadata": {
    "vscode": {
     "languageId": "r"
    }
   },
   "outputs": [],
   "source": [
    "# Filter using %in% operator\n",
    "selected_products <- sales_data %>%   # Take sales_data and pipe to filter()\n",
    "  filter(Product %in% c(\"Laptop\", \"Monitor\"))\n",
    "                                       # %in% checks if value exists in a list\n",
    "                                       # c(\"Laptop\", \"Monitor\") creates a vector of allowed values\n",
    "                                       # More efficient than Product == \"Laptop\" | Product == \"Monitor\"\n",
    "print(\"Orders for Laptop or Monitor:\")\n",
    "print(selected_products)              # Shows only laptop and monitor orders"
   ]
  },
  {
   "cell_type": "code",
   "execution_count": null,
   "id": "ab6bfda4",
   "metadata": {
    "vscode": {
     "languageId": "r"
    }
   },
   "outputs": [],
   "source": [
    "# Filter rows based on date\n",
    "orders_jan_17_onwards <- sales_data %>%  # Take sales_data and pipe to filter()\n",
    "  filter(OrderDate >= as.Date(\"2024-01-17\"))\n",
    "                                       # >= means \"greater than or equal to\"\n",
    "                                       # as.Date() converts text string to date format\n",
    "                                       # Keeps orders from Jan 17, 2024 and later\n",
    "print(\"Orders from Jan 17, 2024 onwards:\")\n",
    "print(orders_jan_17_onwards)          # Shows orders from Jan 17 through Jan 23"
   ]
  },
  {
   "cell_type": "markdown",
   "id": "c53fe16a",
   "metadata": {},
   "source": [
    "## 3. arrange(): Reordering Rows\n",
    "\n",
    "The **arrange()** function transforms chaotic data into organized insights by sorting your dataset in meaningful ways. Think of it as your data organizer - revealing patterns, trends, and outliers through strategic ordering.\n",
    "\n",
    "### What You'll Learn:\n",
    "- **Sorting Fundamentals**: Understanding ascending vs. descending order\n",
    "- **Multi-Level Sorting**: Arranging by multiple columns simultaneously\n",
    "- **Data Types**: How arrange() handles numbers, text, and dates differently\n",
    "- **Business Applications**: When and why to sort data for analysis\n",
    "\n",
    "### Business Context and Applications:\n",
    "Proper data arrangement is crucial for business decision-making:\n",
    "- **Performance Rankings**: \"Show top-performing salespeople by revenue\"\n",
    "- **Trend Analysis**: \"Arrange sales data chronologically to identify seasonal patterns\"\n",
    "- **Priority Management**: \"Sort customer orders by value to focus on high-revenue clients\"\n",
    "- **Reporting Preparation**: \"Organize data alphabetically for executive presentations\"\n",
    "- **Quality Control**: \"Sort by unusual values to identify data anomalies\"\n",
    "- **Inventory Management**: \"Arrange products by price to optimize pricing strategies\"\n",
    "\n",
    "### Common arrange() patterns and their uses:\n",
    "- `arrange(column)`: **Ascending Sort** - Lowest to highest values (default behavior)\n",
    "  - Use for: Finding minimum values, alphabetical ordering, chronological analysis\n",
    "- `arrange(desc(column))`: **Descending Sort** - Highest to lowest values\n",
    "  - Use for: Top performer analysis, recent-first ordering, maximum value identification\n",
    "- `arrange(col1, col2)`: **Multi-Column Sort** - Primary sort by col1, secondary by col2\n",
    "  - Use for: Hierarchical analysis (e.g., by region then by sales within region)\n",
    "- `arrange(desc(col1), col2)`: **Mixed Sorting** - Descending primary, ascending secondary\n",
    "  - Use for: Complex ranking scenarios (e.g., highest revenue first, then alphabetical)\n",
    "\n",
    "### Strategic Benefits of arrange():\n",
    "- **Pattern Recognition**: Sorted data reveals trends and outliers more clearly\n",
    "- **Decision Support**: Ranking helps prioritize actions and resources\n",
    "- **Report Readiness**: Organized data improves presentation quality\n",
    "- **Analysis Efficiency**: Sorted data speeds up manual review and validation\n",
    "- **Stakeholder Communication**: Clear ordering makes insights more accessible\n",
    "\n",
    "### Data Type Considerations:\n",
    "- **Numeric Data**: Sorts by numerical value (2 comes before 10)\n",
    "- **Text Data**: Sorts alphabetically (case-sensitive: A-Z, then a-z)\n",
    "- **Date Data**: Sorts chronologically (earliest to latest by default)\n",
    "- **Factor Data**: Sorts by factor level order or alphabetically\n",
    "\n",
    "The examples below demonstrate how arrange() transforms raw data into actionable business intelligence through strategic sorting."
   ]
  },
  {
   "cell_type": "code",
   "execution_count": null,
   "id": "aab6a164",
   "metadata": {
    "vscode": {
     "languageId": "r"
    }
   },
   "outputs": [],
   "source": [
    "# Arrange by Price in ascending order (default)\n",
    "arranged_by_price_asc <- sales_data %>%  # Take sales_data and pipe to arrange()\n",
    "  arrange(Price)                      # arrange() sorts rows by specified column\n",
    "                                       # Default is ascending order (lowest to highest)\n",
    "                                       # Cheapest items appear first\n",
    "print(\"Arranged by Price (Ascending):\")\n",
    "print(arranged_by_price_asc)          # Shows data sorted from $20 to $1250"
   ]
  },
  {
   "cell_type": "code",
   "execution_count": null,
   "id": "7230c546",
   "metadata": {
    "vscode": {
     "languageId": "r"
    }
   },
   "outputs": [],
   "source": [
    "# Arrange by Price in descending order\n",
    "arranged_by_price_desc <- sales_data %>%  # Take sales_data and pipe to arrange()\n",
    "  arrange(desc(Price))                # desc() function reverses sort order\n",
    "                                       # desc = descending (highest to lowest)\n",
    "                                       # Most expensive items appear first\n",
    "print(\"Arranged by Price (Descending):\")\n",
    "print(arranged_by_price_desc)          # Shows data sorted from $1250 to $20"
   ]
  },
  {
   "cell_type": "code",
   "execution_count": null,
   "id": "e008336e",
   "metadata": {
    "vscode": {
     "languageId": "r"
    }
   },
   "outputs": [],
   "source": [
    "# Arrange by multiple columns (e.g., Region then Price)\n",
    "arranged_by_region_price <- sales_data %>%  # Take sales_data and pipe to arrange()\n",
    "  arrange(Region, Price)              # Multiple columns: first sort by Region\n",
    "                                       # Then within each region, sort by Price\n",
    "                                       # Primary sort = Region (alphabetical)\n",
    "                                       # Secondary sort = Price (within each region)\n",
    "print(\"Arranged by Region then Price:\")\n",
    "print(arranged_by_region_price)        # Groups by East, North, South, West, then price within each"
   ]
  },
  {
   "cell_type": "markdown",
   "id": "26190bb6",
   "metadata": {},
   "source": [
    "## Combining Operations: The Power of the Pipe\n",
    "\n",
    "The real power of dplyr comes from **chaining multiple operations** together using the pipe operator (`%>%`). This is where data transformation becomes an art form - creating sophisticated analyses through elegant, readable code.\n",
    "\n",
    "### What You'll Master:\n",
    "- **Pipeline Thinking**: Breaking complex problems into sequential steps\n",
    "- **Code Readability**: Writing analysis that tells a clear story\n",
    "- **Efficient Workflows**: Avoiding intermediate variables and nested functions\n",
    "- **Debugging Skills**: Testing and modifying pipelines step by step\n",
    "\n",
    "### Business Intelligence Approach:\n",
    "Professional data analysts rarely use single operations in isolation. Real business questions require multi-step analyses:\n",
    "\n",
    "**Single Question, Multiple Steps:**\n",
    "*\"Which high-value customers from our priority regions should we contact first?\"*\n",
    "\n",
    "This business question translates to:\n",
    "1. **Filter**: High-value orders (filter by price/quantity thresholds)\n",
    "2. **Filter**: Priority regions (filter by geographic criteria)  \n",
    "3. **Select**: Relevant contact information (select customer and order details)\n",
    "4. **Arrange**: Contact priority order (arrange by total value)\n",
    "\n",
    "### Pipeline Benefits for Business Analysis:\n",
    "- **Logical Flow**: Operations mirror business thinking processes\n",
    "- **Transparency**: Stakeholders can follow the analysis logic\n",
    "- **Reproducibility**: Easy to apply same logic to new datasets\n",
    "- **Flexibility**: Simple to modify criteria or add new steps\n",
    "- **Documentation**: Code becomes self-documenting analysis\n",
    "\n",
    "### Strategic Pipeline Patterns:\n",
    "1. **Exploration Pipeline**: Filter → Select → Arrange\n",
    "   - Use for: Initial data exploration and quality assessment\n",
    "2. **Reporting Pipeline**: Filter → Select → Arrange → Export\n",
    "   - Use for: Creating stakeholder reports and dashboards\n",
    "3. **Analysis Pipeline**: Filter → Calculate → Group → Summarize\n",
    "   - Use for: Statistical analysis and KPI development\n",
    "4. **Quality Pipeline**: Filter → Validate → Clean → Transform\n",
    "   - Use for: Data preparation and quality assurance\n",
    "\n",
    "### Professional Best Practices:\n",
    "- **Start Simple**: Begin with one operation, then add complexity\n",
    "- **Test Incrementally**: Run partial pipelines to verify each step\n",
    "- **Use Comments**: Explain business logic behind each transformation\n",
    "- **Name Meaningfully**: Create descriptive variable names for results\n",
    "- **Think Reusably**: Design pipelines that work with different datasets\n",
    "\n",
    "### Example workflow breakdown:\n",
    "1. **Start** with original data (your raw business information)\n",
    "2. **Filter** to relevant rows (focus on what matters for the business question)\n",
    "3. **Select** important columns (eliminate distractions)\n",
    "4. **Arrange** in meaningful order (prepare for decision-making)\n",
    "\n",
    "This systematic approach transforms raw data into actionable business intelligence through clear, repeatable processes."
   ]
  },
  {
   "cell_type": "code",
   "execution_count": null,
   "id": "488a6d05",
   "metadata": {
    "vscode": {
     "languageId": "r"
    }
   },
   "outputs": [],
   "source": [
    "# Combine operations: filter and then arrange\n",
    "high_value_orders_arranged <- sales_data %>%  # Start with sales_data\n",
    "  filter(Price * Quantity > 1000) %>% # Step 1: Calculate total value (Price × Quantity)\n",
    "                                       # Keep only rows where total > 1000\n",
    "  arrange(desc(Price * Quantity))     # Step 2: Sort by total value (highest first)\n",
    "                                       # desc() sorts descending order\n",
    "                                       # Pipeline: data → filter → arrange → result\n",
    "print(\"High Value Orders (Price * Quantity > 1000) arranged by total value (Descending):\")\n",
    "print(high_value_orders_arranged)      # Shows high-value orders sorted by total value"
   ]
  },
  {
   "cell_type": "markdown",
   "id": "fee4bce3",
   "metadata": {},
   "source": [
    "## Summary and Next Steps\n",
    "\n",
    "**What we learned in this lesson:**\n",
    "- **select()**: Choose specific columns from your dataset\n",
    "- **filter()**: Subset rows based on logical conditions\n",
    "- **arrange()**: Sort data by one or more columns\n",
    "- **Pipe operator (%>%)**: Chain operations together for readable code\n",
    "\n",
    "**Key takeaways:**\n",
    "1. **Start simple**: Begin with basic operations before chaining\n",
    "2. **Think step-by-step**: Break complex tasks into smaller operations\n",
    "3. **Use meaningful names**: Create descriptive variable names for results\n",
    "4. **Practice**: The more you use these functions, the more intuitive they become\n",
    "\n",
    "**Coming up in Part 2:**\n",
    "- **mutate()**: Creating new variables\n",
    "- **summarize()**: Calculating summary statistics\n",
    "- **group_by()**: Performing operations by groups\n",
    "- **Advanced combinations**: Complex data transformations\n",
    "\n",
    "**Practice exercises:**\n",
    "1. Try filtering the data for different conditions\n",
    "2. Experiment with selecting different column combinations\n",
    "3. Practice arranging by different variables\n",
    "4. Create your own chain of operations"
   ]
  }
 ],
 "metadata": {
  "kernelspec": {
   "display_name": "R",
   "language": "R",
   "name": "ir"
  },
  "language_info": {
   "codemirror_mode": "r",
   "file_extension": ".r",
   "mimetype": "text/x-r-source",
   "name": "R",
   "pygments_lexer": "r",
   "version": "4.5.0"
  }
 },
 "nbformat": 4,
 "nbformat_minor": 5
}
