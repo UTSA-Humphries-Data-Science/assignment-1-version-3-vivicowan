{
 "cells": [
  {
   "cell_type": "markdown",
   "id": "ff384b48",
   "metadata": {},
   "source": [
    "# Homework Assignment - Lesson 6: Combining Datasets - Joins\n",
    "\n",
    "**Due Date:** [Insert Due Date Here]\n",
    "\n",
    "**Instructions:**\n",
    "- Complete the following tasks in this R notebook\n",
    "- Use the exact variable names specified for each task\n",
    "- Ensure your code runs without errors and produces the expected outputs\n",
    "- Submit your completed notebook with all code and outputs\n",
    "\n",
    "---"
   ]
  },
  {
   "cell_type": "markdown",
   "id": "22c77bb0",
   "metadata": {},
   "source": [
    "## Part 1: Data Import and Setup\n",
    "\n",
    "**Task:** Import the following CSV files and examine their structure.\n",
    "\n",
    "**Required Variable Names:**\n",
    "You must use these EXACT variable names:\n",
    "- `customers` for customers.csv\n",
    "- `orders` for orders.csv  \n",
    "- `order_items` for order_items.csv\n",
    "- `products` for products.csv\n",
    "- `suppliers` for suppliers.csv\n",
    "\n",
    "**Expected Outputs:**\n",
    "- All datasets loaded successfully\n",
    "- Print dataset dimensions using `nrow()` and `ncol()`\n",
    "- Show first 3 rows of each dataset using `head(dataset, 3)`"
   ]
  },
  {
   "cell_type": "code",
   "execution_count": null,
   "metadata": {
    "vscode": {
     "languageId": "r"
    }
   },
   "outputs": [],
   "source": [
    "# Your code here:\n",
    "# 1. Load the tidyverse package\n",
    "# 2. Set working directory to sample_datasets  \n",
    "# 3. Import all CSV files using read_csv() with EXACT variable names above\n",
    "# 4. Print dimensions and head() for each dataset\n",
    "\n",
    "# Load tidyverse\n",
    "\n",
    "\n",
    "# Set working directory\n",
    "\n",
    "\n",
    "# Import datasets with exact variable names\n",
    "customers <- \n",
    "orders <- \n",
    "order_items <- \n",
    "products <- \n",
    "suppliers <- \n",
    "\n",
    "# Print dataset information (uncomment after creating variables above):\n",
    "# cat(\"Dataset Dimensions:\\n\")\n",
    "# cat(\"Customers:\", nrow(customers), \"rows x\", ncol(customers), \"columns\\n\")\n",
    "# cat(\"Orders:\", nrow(orders), \"rows x\", ncol(orders), \"columns\\n\")\n",
    "# cat(\"Order Items:\", nrow(order_items), \"rows x\", ncol(order_items), \"columns\\n\")\n",
    "# cat(\"Products:\", nrow(products), \"rows x\", ncol(products), \"columns\\n\")\n",
    "# cat(\"Suppliers:\", nrow(suppliers), \"rows x\", ncol(suppliers), \"columns\\n\")\n",
    "\n",
    "# Show first 3 rows of each dataset (uncomment after loading data):\n",
    "# head(customers, 3)\n",
    "# head(orders, 3)\n",
    "# head(order_items, 3)\n",
    "# head(products, 3)\n",
    "# head(suppliers, 3)"
   ]
  },
  {
   "cell_type": "markdown",
   "id": "7c1efbaa",
   "metadata": {},
   "source": [
    "## Part 2: Basic Joins\n",
    "\n",
    "**Tasks:**\n",
    "1. **Inner Join:** Create `customer_orders_inner` by joining customers and orders\n",
    "2. **Left Join:** Create `customer_orders_left` to show all customers  \n",
    "3. **Right Join:** Create `customer_orders_right` to show all orders\n",
    "4. **Full Join:** Create `customer_orders_full` for complete data view\n",
    "\n",
    "Use the exact variable names specified above for autograding. Analyze row counts and explain results."
   ]
  },
  {
   "cell_type": "code",
   "execution_count": null,
   "id": "b71620a2",
   "metadata": {
    "vscode": {
     "languageId": "r"
    }
   },
   "outputs": [],
   "source": [
    "# Your code here:\n",
    "# Create an inner join between customers and orders\n",
    "# Analyze the results and compare row counts\n",
    "\n"
   ]
  },
  {
   "cell_type": "code",
   "execution_count": null,
   "id": "c24aba08",
   "metadata": {
    "vscode": {
     "languageId": "r"
    }
   },
   "outputs": [],
   "source": [
    "# Your code here:\n",
    "# Create a left join to keep all customers\n",
    "# Count how many customers have no orders\n",
    "\n"
   ]
  },
  {
   "cell_type": "code",
   "execution_count": null,
   "id": "691075a2",
   "metadata": {
    "vscode": {
     "languageId": "r"
    }
   },
   "outputs": [],
   "source": [
    "# Your code here:\n",
    "# Create a right join to keep all orders\n",
    "# Check for orders with invalid customer IDs\n",
    "\n"
   ]
  },
  {
   "cell_type": "code",
   "execution_count": null,
   "id": "129d3602",
   "metadata": {
    "vscode": {
     "languageId": "r"
    }
   },
   "outputs": [],
   "source": [
    "<VSCode.Cell id=\"#VSC-0da36c1e\" language=\"markdown\">\n",
    "## Part 2: Basic Joins\n",
    "\n",
    "**Required Variable Names:**\n",
    "You must create these EXACT variable names:\n",
    "\n",
    "**Part 2.1:** Create `customer_orders` using inner_join()\n",
    "**Part 2.2:** Create `customer_orders_left` using left_join()  \n",
    "**Part 2.3:** Create `customer_orders_right` using right_join()\n",
    "**Part 2.4:** Create `customer_orders_full` using full_join()\n",
    "\n",
    "**Expected Outputs:**\n",
    "For each join, print:\n",
    "- Number of rows in the result using `nrow()`\n",
    "- Comparison with original dataset sizes\n",
    "- Analysis of unmatched records"
   ]
  },
  {
   "cell_type": "code",
   "execution_count": null,
   "id": "3d85615b",
   "metadata": {
    "vscode": {
     "languageId": "r"
    }
   },
   "outputs": [],
   "source": [
    "# Part 2.1: Inner Join (REQUIRED variable name: customer_orders)\n",
    "# Your code here:\n",
    "\n",
    "\n",
    "# Required output for autograding:\n",
    "cat(\"Inner Join Results:\n",
    "\")\n",
    "cat(\"Customers:\", nrow(customers), \"\n",
    "\")\n",
    "cat(\"Orders:\", nrow(orders), \"\n",
    "\")\n",
    "cat(\"Inner Join Result:\", nrow(customer_orders), \"\n",
    "\")"
   ]
  },
  {
   "cell_type": "code",
   "execution_count": null,
   "id": "0bd63c93",
   "metadata": {
    "vscode": {
     "languageId": "r"
    }
   },
   "outputs": [],
   "source": [
    "# Part 2.2: Left Join (REQUIRED variable name: customer_orders_left)  \n",
    "# Your code here:\n",
    "\n",
    "\n",
    "# Required output for autograding:\n",
    "customers_without_orders <- sum(is.na(customer_orders_left$OrderID))\n",
    "cat(\"Left Join Results:\n",
    "\")\n",
    "cat(\"Total rows:\", nrow(customer_orders_left), \"\n",
    "\")\n",
    "cat(\"Customers without orders:\", customers_without_orders, \"\n",
    "\")"
   ]
  },
  {
   "cell_type": "code",
   "execution_count": null,
   "id": "95ecc4ca",
   "metadata": {
    "vscode": {
     "languageId": "r"
    }
   },
   "outputs": [],
   "source": [
    "# Part 2.1: Inner Join (REQUIRED variable name: customer_orders)\n",
    "# Your code here:\n",
    "\n",
    "\n",
    "# Expected output:\n",
    "cat(\"Inner Join Results:\n",
    "\")\n",
    "cat(\"Customers:\", nrow(customers), \"\n",
    "\")\n",
    "cat(\"Orders:\", nrow(orders), \"\n",
    "\")\n",
    "cat(\"Inner Join Result:\", nrow(customer_orders), \"\n",
    "\")"
   ]
  },
  {
   "cell_type": "code",
   "execution_count": null,
   "id": "6f7ea95b",
   "metadata": {
    "vscode": {
     "languageId": "r"
    }
   },
   "outputs": [],
   "source": [
    "# Part 2.2: Left Join (REQUIRED variable name: customer_orders_left)  \n",
    "# Your code here:\n",
    "\n",
    "\n",
    "# Expected output:\n",
    "customers_without_orders <- sum(is.na(customer_orders_left$OrderID))\n",
    "cat(\"Left Join Results:\n",
    "\")\n",
    "cat(\"Total rows:\", nrow(customer_orders_left), \"\n",
    "\")\n",
    "cat(\"Customers without orders:\", customers_without_orders, \"\n",
    "\")"
   ]
  },
  {
   "cell_type": "code",
   "execution_count": null,
   "id": "bea91837",
   "metadata": {
    "vscode": {
     "languageId": "r"
    }
   },
   "outputs": [],
   "source": [
    "# Part 2.3: Right Join (REQUIRED variable name: customer_orders_right)\n",
    "# Your code here:\n",
    "\n",
    "\n",
    "# Expected output:\n",
    "orders_invalid_customers <- sum(is.na(customer_orders_right$Name))\n",
    "cat(\"Right Join Results:\n",
    "\")\n",
    "cat(\"Total rows:\", nrow(customer_orders_right), \"\n",
    "\")\n",
    "cat(\"Orders with invalid customer IDs:\", orders_invalid_customers, \"\n",
    "\")"
   ]
  },
  {
   "cell_type": "code",
   "execution_count": null,
   "id": "3620b6da",
   "metadata": {
    "vscode": {
     "languageId": "r"
    }
   },
   "outputs": [],
   "source": [
    "# Part 2.4: Full Join (REQUIRED variable name: customer_orders_full)\n",
    "# Your code here:\n",
    "\n",
    "\n",
    "# Expected output:\n",
    "customers_only <- sum(is.na(customer_orders_full$OrderID))\n",
    "orders_only <- sum(is.na(customer_orders_full$Name))\n",
    "cat(\"Full Join Results:\n",
    "\")\n",
    "cat(\"Total rows:\", nrow(customer_orders_full), \"\n",
    "\")\n",
    "cat(\"Customers without orders:\", customers_only, \"\n",
    "\")\n",
    "cat(\"Orders without valid customers:\", orders_only, \"\n",
    "\")"
   ]
  },
  {
   "cell_type": "code",
   "execution_count": null,
   "id": "8c7c73aa",
   "metadata": {
    "vscode": {
     "languageId": "r"
    }
   },
   "outputs": [],
   "source": [
    "# Part 2.4: Full Join (REQUIRED variable name: customer_orders_full)\n",
    "# Your code here:\n",
    "\n",
    "\n",
    "# Required output for autograding:\n",
    "customers_only <- sum(is.na(customer_orders_full$OrderID))\n",
    "orders_only <- sum(is.na(customer_orders_full$Name))\n",
    "cat(\"Full Join Results:\n",
    "\")\n",
    "cat(\"Total rows:\", nrow(customer_orders_full), \"\n",
    "\")\n",
    "cat(\"Customers without orders:\", customers_only, \"\n",
    "\")\n",
    "cat(\"Orders without valid customers:\", orders_only, \"\n",
    "\")"
   ]
  },
  {
   "cell_type": "markdown",
   "id": "94ca490b",
   "metadata": {},
   "source": [
    "## Part 3: Multi-Table Joins\n",
    "\n",
    "**Tasks:**\n",
    "1. Create a comprehensive dataset by joining `orders`, `customers`, and `order_items`\n",
    "2. Extend this dataset by adding `products` and `suppliers` information\n",
    "3. Create a complete supply chain view showing the full customer-to-supplier relationship\n",
    "\n",
    "Build your joins step by step and examine the results at each stage."
   ]
  },
  {
   "cell_type": "markdown",
   "id": "04d1f03a",
   "metadata": {},
   "source": [
    "## Part 3: Multi-Table Joins\n",
    "\n",
    "**Requirements for Autograding:**\n",
    "You must create these EXACT variable names in order:\n",
    "\n",
    "1. `orders_items` - Join orders and order_items  \n",
    "2. `orders_customers_items` - Add customers to above\n",
    "3. `complete_order_data` - Add products information\n",
    "4. `complete_data` - Add suppliers for complete supply chain view\n",
    "\n",
    "**Expected Outputs:**\n",
    "Print the number of rows for each step to show the join progression."
   ]
  },
  {
   "cell_type": "code",
   "execution_count": null,
   "id": "0cf16593",
   "metadata": {
    "vscode": {
     "languageId": "r"
    }
   },
   "outputs": [],
   "source": [
    "# Step 1: REQUIRED variable name: orders_items\n",
    "# Your code here:\n",
    "\n",
    "\n",
    "# Required output for autograding:\n",
    "cat(\"Step 1 - Orders with Items:\", nrow(orders_items), \"rows\\n\")"
   ]
  },
  {
   "cell_type": "code",
   "execution_count": null,
   "id": "fe7095c7",
   "metadata": {
    "vscode": {
     "languageId": "r"
    }
   },
   "outputs": [],
   "source": [
    "# Step 2: REQUIRED variable name: orders_customers_items  \n",
    "# Your code here:\n",
    "\n",
    "\n",
    "# Required output for autograding:\n",
    "cat(\"Step 2 - Add Customers:\", nrow(orders_customers_items), \"rows\\n\")"
   ]
  },
  {
   "cell_type": "code",
   "execution_count": null,
   "id": "999225e8",
   "metadata": {
    "vscode": {
     "languageId": "r"
    }
   },
   "outputs": [],
   "source": [
    "# Step 3: REQUIRED variable name: complete_order_data\n",
    "# Your code here:\n",
    "\n",
    "\n",
    "# Required output for autograding:\n",
    "cat(\"Step 3 - Add Products:\", nrow(complete_order_data), \"rows\\n\")"
   ]
  },
  {
   "cell_type": "code",
   "execution_count": null,
   "id": "544f3b4e",
   "metadata": {
    "vscode": {
     "languageId": "r"
    }
   },
   "outputs": [],
   "source": [
    "# Step 4: REQUIRED variable name: complete_data\n",
    "# Your code here:\n",
    "\n",
    "\n",
    "# Required output for autograding:\n",
    "cat(\"Step 4 - Complete Supply Chain:\", nrow(complete_data), \"rows\\n\")"
   ]
  },
  {
   "cell_type": "markdown",
   "id": "50ac42fb",
   "metadata": {},
   "source": [
    "## Part 4: Data Quality Analysis\n",
    "\n",
    "**Tasks:**\n",
    "1. Use `anti_join()` to find unmatched records between tables\n",
    "2. Use `semi_join()` to find matched records\n",
    "3. Check for duplicate keys and analyze their impact on joins\n",
    "4. Identify and document any data quality issues\n",
    "\n",
    "This analysis helps understand data integrity and potential issues in your datasets."
   ]
  },
  {
   "cell_type": "code",
   "execution_count": null,
   "id": "42c07579",
   "metadata": {
    "vscode": {
     "languageId": "r"
    }
   },
   "outputs": [],
   "source": [
    "<VSCode.Cell id=\"#VSC-d7f91846\" language=\"markdown\">\n",
    "## Part 4: Data Quality Analysis\n",
    "\n",
    "**Requirements for Autograding:**\n",
    "You must create these EXACT variable names:\n",
    "\n",
    "1. `customers_no_orders` - Use anti_join() to find customers with no orders\n",
    "2. `orphaned_orders` - Use anti_join() to find orders without customers  \n",
    "3. `products_never_ordered` - Use anti_join() to find unordered products\n",
    "4. `active_customers` - Use semi_join() to find customers with orders\n",
    "\n",
    "**Expected Outputs:**\n",
    "Print the count of records for each using `nrow()`."
   ]
  },
  {
   "cell_type": "code",
   "execution_count": null,
   "id": "66725df0",
   "metadata": {
    "vscode": {
     "languageId": "r"
    }
   },
   "outputs": [],
   "source": [
    "# REQUIRED variable name: customers_no_orders\n",
    "# Your code here:\n",
    "\n",
    "\n",
    "# Required output for autograding:\n",
    "cat(\"Customers who never placed an order:\", nrow(customers_no_orders), \"\\n\")"
   ]
  },
  {
   "cell_type": "code",
   "execution_count": null,
   "id": "8d296273",
   "metadata": {
    "vscode": {
     "languageId": "r"
    }
   },
   "outputs": [],
   "source": [
    "# REQUIRED variable name: orphaned_orders\n",
    "# Your code here:\n",
    "\n",
    "\n",
    "# Required output for autograding:\n",
    "cat(\"Orders without corresponding customers:\", nrow(orphaned_orders), \"\\n\")"
   ]
  },
  {
   "cell_type": "code",
   "execution_count": null,
   "id": "192dd640",
   "metadata": {
    "vscode": {
     "languageId": "r"
    }
   },
   "outputs": [],
   "source": [
    "# REQUIRED variable name: products_never_ordered\n",
    "# Your code here:\n",
    "\n",
    "\n",
    "# Required output for autograding:\n",
    "cat(\"Products that were never ordered:\", nrow(products_never_ordered), \"\\n\")"
   ]
  },
  {
   "cell_type": "code",
   "execution_count": null,
   "id": "b518f93c",
   "metadata": {
    "vscode": {
     "languageId": "r"
    }
   },
   "outputs": [],
   "source": [
    "# REQUIRED variable name: active_customers\n",
    "# Your code here:\n",
    "\n",
    "\n",
    "# Required output for autograding:\n",
    "cat(\"Customers who placed at least one order:\", nrow(active_customers), \"\\n\")"
   ]
  },
  {
   "cell_type": "code",
   "execution_count": null,
   "id": "28620011",
   "metadata": {
    "vscode": {
     "languageId": "r"
    }
   },
   "outputs": [],
   "source": [
    "# Data integrity checks - count duplicate keys\n",
    "# Your code here: Calculate and print duplicate counts for each dataset\n",
    "\n",
    "# Required outputs for autograding (uncomment after creating the calculations above):\n",
    "# duplicate_customers <- sum(duplicated(customers$CustomerID))\n",
    "# duplicate_orders <- sum(duplicated(orders$OrderID))\n",
    "# duplicate_products <- sum(duplicated(products$ProductID))\n",
    "# duplicate_suppliers <- sum(duplicated(suppliers$Supplier_ID))\n",
    "\n",
    "# cat(\"Data Quality Summary:\\n\")\n",
    "# cat(\"Duplicate customer IDs:\", duplicate_customers, \"\\n\")\n",
    "# cat(\"Duplicate order IDs:\", duplicate_orders, \"\\n\")\n",
    "# cat(\"Duplicate product IDs:\", duplicate_products, \"\\n\")\n",
    "# cat(\"Duplicate supplier IDs:\", duplicate_suppliers, \"\\n\")"
   ]
  },
  {
   "cell_type": "markdown",
   "id": "8944b61e",
   "metadata": {},
   "source": [
    "## Part 5: Business Analysis with Joined Data\n",
    "\n",
    "**Tasks:**\n",
    "1. Calculate customer lifetime value metrics (total spent, number of orders, average order value)\n",
    "2. Analyze product performance (total quantity sold, revenue generated, order frequency)\n",
    "3. Evaluate supplier performance (total revenue, number of products supplied)\n",
    "4. Create a regional analysis by customer city\n",
    "\n",
    "Use your joined datasets to generate meaningful business insights."
   ]
  },
  {
   "cell_type": "code",
   "execution_count": null,
   "id": "e48f5abc",
   "metadata": {
    "vscode": {
     "languageId": "r"
    }
   },
   "outputs": [],
   "source": [
    "<VSCode.Cell id=\"#VSC-f7364f43\" language=\"markdown\">\n",
    "## Part 5: Business Analysis with Joined Data\n",
    "\n",
    "**Requirements for Autograding:**\n",
    "You must create these EXACT variable names:\n",
    "\n",
    "1. `customer_metrics` - Customer analysis with Total_Spent, Order_Count, Avg_Order_Value\n",
    "2. `product_metrics` - Product analysis with Total_Revenue, Total_Quantity, Order_Frequency  \n",
    "3. `supplier_metrics` - Supplier analysis with Product_Count by supplier\n",
    "4. `regional_analysis` - Sales analysis by customer city\n",
    "\n",
    "**Required Columns:**\n",
    "- customer_metrics: CustomerID, Name, Total_Spent, Order_Count, Avg_Order_Value\n",
    "- product_metrics: ProductID, Product_Name, Total_Revenue, Total_Quantity, Order_Frequency\n",
    "- supplier_metrics: Supplier_ID, Supplier_Name, Product_Count\n",
    "- regional_analysis: City, Total_Sales, Customer_Count, Avg_Customer_Value"
   ]
  },
  {
   "cell_type": "code",
   "execution_count": null,
   "id": "e5cc6134",
   "metadata": {
    "vscode": {
     "languageId": "r"
    }
   },
   "outputs": [],
   "source": [
    "# REQUIRED variable name: customer_metrics\n",
    "# Your code here: Calculate customer lifetime value metrics\n",
    "# Required columns: CustomerID, Name, Total_Spent, Order_Count, Avg_Order_Value\n",
    "\n",
    "\n",
    "# Required output for autograding:\n",
    "cat(\"Customer Analysis Summary:\n",
    "\")\n",
    "cat(\"Total customers analyzed:\", nrow(customer_metrics), \"\n",
    "\")\n",
    "cat(\"Top customer total spent: $\", round(max(customer_metrics$Total_Spent, na.rm = TRUE), 2), \"\n",
    "\")\n",
    "print(head(customer_metrics[order(-customer_metrics$Total_Spent), ], 3))"
   ]
  },
  {
   "cell_type": "code",
   "execution_count": null,
   "id": "8fddb9fd",
   "metadata": {
    "vscode": {
     "languageId": "r"
    }
   },
   "outputs": [],
   "source": [
    "# REQUIRED variable name: product_metrics  \n",
    "# Your code here: Analyze product performance\n",
    "# Required columns: ProductID, Product_Name, Total_Revenue, Total_Quantity, Order_Frequency\n",
    "\n",
    "\n",
    "# Required output for autograding:\n",
    "cat(\"Product Analysis Summary:\n",
    "\")\n",
    "cat(\"Total products analyzed:\", nrow(product_metrics), \"\n",
    "\")\n",
    "cat(\"Top product revenue: $\", round(max(product_metrics$Total_Revenue, na.rm = TRUE), 2), \"\n",
    "\")\n",
    "print(head(product_metrics[order(-product_metrics$Total_Revenue), ], 3))"
   ]
  },
  {
   "cell_type": "code",
   "execution_count": null,
   "id": "854851fe",
   "metadata": {
    "vscode": {
     "languageId": "r"
    }
   },
   "outputs": [],
   "source": [
    "# REQUIRED variable name: supplier_metrics\n",
    "# Your code here: Evaluate supplier performance  \n",
    "# Required columns: Supplier_ID, Supplier_Name, Product_Count\n",
    "\n",
    "\n",
    "# Required output for autograding:\n",
    "cat(\"Supplier Analysis Summary:\n",
    "\")\n",
    "cat(\"Total suppliers analyzed:\", nrow(supplier_metrics), \"\n",
    "\")\n",
    "cat(\"Max products per supplier:\", max(supplier_metrics$Product_Count, na.rm = TRUE), \"\n",
    "\")\n",
    "print(supplier_metrics[order(-supplier_metrics$Product_Count), ])"
   ]
  },
  {
   "cell_type": "code",
   "execution_count": null,
   "id": "66eebb84",
   "metadata": {
    "vscode": {
     "languageId": "r"
    }
   },
   "outputs": [],
   "source": [
    "# REQUIRED variable name: regional_analysis\n",
    "# Your code here: Create regional analysis by customer city\n",
    "# Required columns: City, Total_Sales, Customer_Count, Avg_Customer_Value\n",
    "\n",
    "\n",
    "# Required output for autograding:\n",
    "cat(\"Regional Analysis Summary:\n",
    "\")\n",
    "cat(\"Total cities analyzed:\", nrow(regional_analysis), \"\n",
    "\")\n",
    "cat(\"Highest city sales: $\", round(max(regional_analysis$Total_Sales, na.rm = TRUE), 2), \"\n",
    "\")\n",
    "print(regional_analysis[order(-regional_analysis$Total_Sales), ])"
   ]
  },
  {
   "cell_type": "code",
   "execution_count": null,
   "id": "986dadd7",
   "metadata": {
    "vscode": {
     "languageId": "r"
    }
   },
   "outputs": [],
   "source": [
    "# Your code here:\n",
    "# Analyze product performance metrics\n",
    "\n"
   ]
  },
  {
   "cell_type": "code",
   "execution_count": null,
   "id": "0eae7dfe",
   "metadata": {
    "vscode": {
     "languageId": "r"
    }
   },
   "outputs": [],
   "source": [
    "# Your code here:\n",
    "# Evaluate supplier performance\n",
    "\n"
   ]
  },
  {
   "cell_type": "code",
   "execution_count": null,
   "metadata": {
    "vscode": {
     "languageId": "r"
    }
   },
   "outputs": [],
   "source": [
    "# Your code here:\n",
    "# Create regional analysis by customer city\n",
    "\n"
   ]
  },
  {
   "cell_type": "code",
   "execution_count": null,
   "id": "2a0b7a64",
   "metadata": {
    "vscode": {
     "languageId": "r"
    }
   },
   "outputs": [],
   "source": [
    "# Supplier Performance Analysis\n",
    "supplier_metrics <- complete_supply_chain %>%\n",
    "  filter(!is.na(Supplier_Name)) %>%\n",
    "  group_by(Supplier_ID, Supplier_Name, Country) %>%\n",
    "  summarise(\n",
    "    Total_Revenue = sum(Quantity * Unit_Price, na.rm = TRUE),\n",
    "    Products_Supplied = n_distinct(ProductID),\n",
    "    Orders_Involved = n_distinct(OrderID),\n",
    "    .groups = \"drop\"\n",
    "  ) %>%\n",
    "  arrange(desc(Total_Revenue))\n",
    "\n",
    "cat(\"Supplier Performance:\\n\")\n",
    "print(supplier_metrics)"
   ]
  },
  {
   "cell_type": "code",
   "execution_count": null,
   "id": "b646b7f7",
   "metadata": {
    "vscode": {
     "languageId": "r"
    }
   },
   "outputs": [],
   "source": [
    "# Regional Analysis by Customer City\n",
    "regional_analysis <- complete_supply_chain %>%\n",
    "  group_by(City) %>%\n",
    "  summarise(\n",
    "    Total_Sales = sum(Quantity * Unit_Price, na.rm = TRUE),\n",
    "    Customer_Count = n_distinct(CustomerID),\n",
    "    Order_Count = n_distinct(OrderID),\n",
    "    Avg_Customer_Value = Total_Sales / Customer_Count,\n",
    "    .groups = \"drop\"\n",
    "  ) %>%\n",
    "  arrange(desc(Total_Sales))\n",
    "\n",
    "cat(\"Regional Sales Analysis:\\n\")\n",
    "print(regional_analysis)"
   ]
  },
  {
   "cell_type": "markdown",
   "id": "25715d99",
   "metadata": {},
   "source": [
    "## Part 6: Complex Business Questions\n",
    "\n",
    "**Tasks:**\n",
    "Answer the following business questions using your joined datasets:\n",
    "\n",
    "1. **Customer Segmentation:** Identify your top 10% of customers by total spending\n",
    "2. **Product Recommendations:** Which products are frequently bought together?\n",
    "3. **Supplier Dependency:** Which suppliers are most critical to the business?\n",
    "4. **Market Expansion:** Which cities have high customer counts but low average order values?\n",
    "\n",
    "Provide data-driven answers with supporting analysis."
   ]
  },
  {
   "cell_type": "markdown",
   "id": "4481e3df",
   "metadata": {},
   "source": [
    "## Part 6: Complex Business Questions\n",
    "\n",
    "**Requirements for Autograding:**\n",
    "You must create these EXACT variable names:\n",
    "\n",
    "1. `top_customers` - Top 10% of customers by spending (use quantile function)\n",
    "2. `product_combinations` - Products frequently bought together  \n",
    "3. `critical_suppliers` - Suppliers ranked by importance\n",
    "4. `market_expansion` - Cities with expansion opportunities\n",
    "\n",
    "**Expected Outputs:**\n",
    "Each analysis should include specific metrics and rankings as shown in the required outputs below."
   ]
  },
  {
   "cell_type": "code",
   "execution_count": null,
   "id": "6bdcef82",
   "metadata": {
    "vscode": {
     "languageId": "r"
    }
   },
   "outputs": [],
   "source": [
    "# REQUIRED variable name: top_customers\n",
    "# Your code here: Identify top 10% of customers by total spending\n",
    "# Use quantile() function to find the 90th percentile threshold\n",
    "\n",
    "\n",
    "# Required output for autograding (uncomment after completing your analysis):\n",
    "# top_10_percent_threshold <- quantile(customer_metrics$Total_Spent, 0.9, na.rm = TRUE)\n",
    "# cat(\"Customer Segmentation Results:\\n\")\n",
    "# cat(\"Top 10% spending threshold: $\", round(top_10_percent_threshold, 2), \"\\n\")\n",
    "# cat(\"Number of top customers:\", nrow(top_customers), \"\\n\")"
   ]
  },
  {
   "cell_type": "code",
   "execution_count": null,
   "id": "a4677040",
   "metadata": {
    "vscode": {
     "languageId": "r"
    }
   },
   "outputs": [],
   "source": [
    "# REQUIRED variable name: product_combinations\n",
    "# Your code here: Find products frequently bought together\n",
    "# Hint: Group by OrderID, filter orders with multiple items\n",
    "\n",
    "\n",
    "# Required output for autograding (uncomment after completing your analysis):\n",
    "# cat(\"Product Combination Analysis:\\n\")\n",
    "# cat(\"Total product combinations found:\", nrow(product_combinations), \"\\n\")\n",
    "# if(nrow(product_combinations) > 0) {\n",
    "#   cat(\"Most frequent combination appears\", max(product_combinations$n, na.rm = TRUE), \"times\\n\")\n",
    "# }"
   ]
  },
  {
   "cell_type": "code",
   "execution_count": null,
   "id": "52a001a5",
   "metadata": {
    "vscode": {
     "languageId": "r"
    }
   },
   "outputs": [],
   "source": [
    "# REQUIRED variable name: critical_suppliers\n",
    "# Your code here: Analyze which suppliers are most critical\n",
    "# Consider both revenue contribution and product diversity\n",
    "\n",
    "\n",
    "# Required output for autograding (uncomment after completing your analysis):\n",
    "# cat(\"Critical Suppliers Analysis:\\n\")\n",
    "# cat(\"Total suppliers analyzed:\", nrow(critical_suppliers), \"\\n\")\n",
    "# print(\"Top 3 most critical suppliers:\")\n",
    "# print(head(critical_suppliers, 3))"
   ]
  },
  {
   "cell_type": "code",
   "execution_count": null,
   "id": "d3551155",
   "metadata": {
    "vscode": {
     "languageId": "r"
    }
   },
   "outputs": [],
   "source": [
    "# REQUIRED variable name: market_expansion  \n",
    "# Your code here: Identify market expansion opportunities\n",
    "# Focus on cities with multiple customers but varying order values\n",
    "\n",
    "\n",
    "# Required output for autograding (uncomment after completing your analysis):\n",
    "# cat(\"Market Expansion Analysis:\\n\")\n",
    "# cat(\"Cities evaluated for expansion:\", nrow(market_expansion), \"\\n\")\n",
    "# print(\"Top expansion opportunities:\")\n",
    "# print(head(market_expansion, 5))"
   ]
  },
  {
   "cell_type": "markdown",
   "id": "1796ffa5",
   "metadata": {},
   "source": [
    "## Part 7: Summary and Insights\n",
    "\n",
    "**Requirements for Autograding:**\n",
    "Complete the analysis summary below with specific findings from your work. Your responses will be evaluated for completeness and accuracy.\n",
    "\n",
    "**Grading Criteria:**\n",
    "- Specific metrics and numbers from your analysis\n",
    "- Clear identification of data quality issues  \n",
    "- Actionable business recommendations\n",
    "- Technical insights about join performance and appropriateness"
   ]
  },
  {
   "cell_type": "markdown",
   "id": "5105da71",
   "metadata": {},
   "source": [
    "## Analysis Summary\n",
    "\n",
    "### Key Findings from Join Operations:\n",
    "- **Join Efficiency:** [Report specific percentages of matched records]\n",
    "- **Data Relationships:** [Describe the relationships you discovered between tables]\n",
    "- **Multi-table Joins:** [Explain how the data grew/changed through the join sequence]\n",
    "\n",
    "### Data Quality Issues Discovered:\n",
    "- **Orphaned Records:** [Report specific counts of unmatched records]\n",
    "- **Missing Data:** [Identify which tables had missing or invalid references]\n",
    "- **Referential Integrity:** [Describe any foreign key violations found]\n",
    "\n",
    "### Business Insights:\n",
    "- **Top Customer:** [Name and spending amount of highest value customer]\n",
    "- **Best Product:** [Product name and revenue from your analysis]\n",
    "- **Regional Performance:** [Key findings about city-level sales patterns]\n",
    "- **Supplier Analysis:** [Insights about supplier diversity and concentration]\n",
    "\n",
    "### Strategic Recommendations:\n",
    "- [Provide at least 3 specific, actionable recommendations based on your data analysis]\n",
    "\n",
    "### Technical Learnings:\n",
    "- **Inner vs Left Joins:** [When you used each and why]\n",
    "- **Multi-table Strategy:** [Your approach to building complex joined datasets]\n",
    "- **Performance Considerations:** [Observations about join efficiency and data size]"
   ]
  },
  {
   "cell_type": "code",
   "execution_count": null,
   "id": "20bb63af",
   "metadata": {
    "vscode": {
     "languageId": "r"
    }
   },
   "outputs": [],
   "source": [
    "# Optional: Save your analysis results (not required for autograding)\n",
    "# Your code here: Save key datasets to CSV files if desired\n",
    "\n",
    "\n",
    "# Final summary output for autograding verification:\n",
    "cat(\"\\n=== HOMEWORK 6 COMPLETION SUMMARY ===\\n\")\n",
    "cat(\"✓ Data Import: 5 datasets loaded\\n\")\n",
    "cat(\"✓ Basic Joins: 4 join types completed\\n\") \n",
    "cat(\"✓ Multi-table Joins: 4-step progression completed\\n\")\n",
    "cat(\"✓ Data Quality: Anti-joins and semi-joins performed\\n\")\n",
    "cat(\"✓ Business Analysis: Customer, product, supplier, and regional analysis completed\\n\")\n",
    "cat(\"✓ Complex Questions: Advanced business scenarios analyzed\\n\")\n",
    "cat(\"✓ Summary: Comprehensive insights documented\\n\")\n",
    "cat(\"\\nAll required variables created for autograding verification.\\n\")"
   ]
  }
 ],
 "metadata": {
  "kernelspec": {
   "display_name": "R",
   "language": "R",
   "name": "ir"
  },
  "language_info": {
   "name": "R"
  }
 },
 "nbformat": 4,
 "nbformat_minor": 5
}
